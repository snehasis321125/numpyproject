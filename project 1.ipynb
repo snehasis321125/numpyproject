{
 "cells": [
  {
   "cell_type": "code",
   "execution_count": null,
   "id": "4e3e83a8",
   "metadata": {},
   "outputs": [],
   "source": [
    "import numpy as np"
   ]
  },
  {
   "cell_type": "code",
   "execution_count": null,
   "id": "4e799f24",
   "metadata": {},
   "outputs": [],
   "source": [
    "# 1. Create a 5×5 matrix with values 1,2,3,…,25.\n",
    "mat_5x5 = np.arange(1, 26).reshape(5, 5)\n",
    "print(\"1. 5x5 matrix:\\n\", mat_5x5)"
   ]
  },
  {
   "cell_type": "code",
   "execution_count": null,
   "id": "98bce9f6",
   "metadata": {},
   "outputs": [],
   "source": [
    "# 2. Generate a 4×4 identity matrix.\n",
    "identity_4x4 = np.eye(4)\n",
    "print(\"\\n2. 4x4 Identity matrix:\\n\", identity_4x4)"
   ]
  },
  {
   "cell_type": "code",
   "execution_count": null,
   "id": "c6decdb5",
   "metadata": {},
   "outputs": [],
   "source": [
    "# 3. 1D array from 100 to 200 with step 10.\n",
    "arr_100_200 = np.arange(100, 201, 10)\n",
    "print(\"\\n3. 1D array 100 to 200 step 10:\\n\", arr_100_200)"
   ]
  },
  {
   "cell_type": "code",
   "execution_count": null,
   "id": "1296975c",
   "metadata": {},
   "outputs": [],
   "source": [
    "# 4. Random 3×3 matrix and its determinant.\n",
    "rand_3x3 = np.random.randint(size=(3, 3), low=1, high=10)\n",
    "det_3x3 = np.linalg.det(rand_3x3)\n",
    "print(\"\\n4. Random 3x3 matrix:\\n\", rand_3x3)\n",
    "print(\"Determinant:\", det_3x3)"
   ]
  },
  {
   "cell_type": "code",
   "execution_count": null,
   "id": "f2803564",
   "metadata": {},
   "outputs": [],
   "source": [
    "# 5. 10 random integers between 1 and 100.\n",
    "rand_ints = np.random.randint(1, 101, 10)\n",
    "print(\"\\n5. 10 random integers:\\n\", rand_ints)"
   ]
  },
  {
   "cell_type": "code",
   "execution_count": null,
   "id": "7c1547a4",
   "metadata": {},
   "outputs": [],
   "source": [
    "# 6. Reshape 1D array of size 12 into 3×4 matrix.\n",
    "arr_12 = np.arange(12)\n",
    "mat_3x4 = arr_12.reshape(3, 4)\n",
    "print(\"\\n6. 3x4 matrix:\\n\", mat_3x4)\n"
   ]
  },
  {
   "cell_type": "code",
   "execution_count": null,
   "id": "0103a15e",
   "metadata": {},
   "outputs": [],
   "source": [
    "# 7. Matrix multiplication of two 3×3 matrices.\n",
    "A = np.random.randint(1, 10, (3, 3))\n",
    "B = np.random.randint(1, 10, (3, 3))\n",
    "matmul = np.dot(A, B)\n",
    "print(\"\\n7. Matrix A:\\n\", A)\n",
    "print(\"Matrix B:\\n\", B)\n",
    "print(\"Matrix multiplication:\\n\", matmul)"
   ]
  },
  {
   "cell_type": "code",
   "execution_count": null,
   "id": "a22bb259",
   "metadata": {},
   "outputs": [],
   "source": [
    "# 8. Eigenvalues and eigenvectors of a 2×2 matrix.\n",
    "mat_2x2 = np.array([[4, 2], [1, 3]])\n",
    "eigvals, eigvecs = np.linalg.eig(mat_2x2)\n",
    "print(\"\\n8. 2x2 matrix:\\n\", mat_2x2)\n",
    "print(\"Eigenvalues:\", eigvals)\n",
    "print(\"Eigenvectors:\\n\", eigvecs)"
   ]
  },
  {
   "cell_type": "code",
   "execution_count": null,
   "id": "3bdb9a53",
   "metadata": {},
   "outputs": [],
   "source": [
    "# 9. 5×5 random matrix and extract diagonal.\n",
    "rand_5x5 = np.random.rand(5, 5)\n",
    "diag_5x5 = np.diag(rand_5x5)\n",
    "print(\"\\n9. 5x5 random matrix:\\n\", rand_5x5)\n",
    "print(\"Diagonal elements:\", diag_5x5)\n"
   ]
  },
  {
   "cell_type": "code",
   "execution_count": null,
   "id": "a266b52e",
   "metadata": {},
   "outputs": [],
   "source": [
    "# 10. Normalize a 1D array\n",
    "arr = np.random.randint(1, 100, 10)\n",
    "norm_arr = (arr - arr.min()) / (arr.max() - arr.min())\n",
    "print(\"\\n10:\\nOriginal:\", arr, \"\\nNormalized:\", norm_arr)"
   ]
  },
  {
   "cell_type": "code",
   "execution_count": null,
   "id": "71109181",
   "metadata": {},
   "outputs": [],
   "source": [
    "# 11. Sort array by row and column\n",
    "arr2d = np.random.randint(1, 100, (4, 4))\n",
    "sorted_rows = np.sort(arr2d, axis=1)\n",
    "sorted_cols = np.sort(arr2d, axis=0)\n",
    "print(\"\\n11:\\nOriginal:\\n\", arr2d, \"\\nRow-wise:\\n\", sorted_rows, \"\\nCol-wise:\\n\", sorted_cols)"
   ]
  },
  {
   "cell_type": "code",
   "execution_count": null,
   "id": "c357b1fd",
   "metadata": {},
   "outputs": [],
   "source": [
    "# 12. Indices of max and min\n",
    "arr1 = np.random.randint(1, 100, 10)\n",
    "print(\"\\n12:\\nArray:\", arr1, \"\\nMax index:\", arr1.argmax(), \"\\nMin index:\", arr1.argmin())"
   ]
  },
  {
   "cell_type": "code",
   "execution_count": null,
   "id": "ae2c1e8f",
   "metadata": {},
   "outputs": [],
   "source": [
    "# 13. Flatten 2D array\n",
    "arr2 = np.arange(9).reshape(3, 3)\n",
    "print(\"\\n13:\\nRavel:\", arr2.ravel(), \"\\nFlatten:\", arr2.flatten())\n"
   ]
  },
  {
   "cell_type": "code",
   "execution_count": null,
   "id": "4865211d",
   "metadata": {},
   "outputs": [],
   "source": [
    "# 14. Inverse of 3×3 matrix\n",
    "mat3 = np.random.randint(1, 10, (3, 3))\n",
    "inv = np.linalg.inv(mat3)\n",
    "print(\"\\n14:\\nMatrix:\\n\", mat3, \"\\nInverse:\\n\", inv)"
   ]
  },
  {
   "cell_type": "code",
   "execution_count": null,
   "id": "ad02f646",
   "metadata": {},
   "outputs": [],
   "source": [
    "# 15. Random permutation of 1–10\n",
    "perm = np.random.permutation(np.arange(1, 11))\n",
    "print(\"\\n15:\\n\", perm)"
   ]
  },
  {
   "cell_type": "code",
   "execution_count": null,
   "id": "b8c85417",
   "metadata": {},
   "outputs": [],
   "source": [
    "# 16. Replace even numbers with -1\n",
    "arr3 = np.arange(21)\n",
    "arr3[arr3 % 2 == 0] = -1\n",
    "print(\"\\n16:\\n\", arr3)"
   ]
  },
  {
   "cell_type": "code",
   "execution_count": null,
   "id": "6f253dca",
   "metadata": {},
   "outputs": [],
   "source": [
    "# 17. Dot product\n",
    "a = np.array([1, 2, 3])\n",
    "b = np.array([4, 5, 6])\n",
    "dot = np.dot(a, b)\n",
    "print(\"\\n17:\\n\", dot)"
   ]
  },
  {
   "cell_type": "code",
   "execution_count": null,
   "id": "211cd08f",
   "metadata": {},
   "outputs": [],
   "source": [
    "# 18. Trace of 5×5 random matrix\n",
    "rand5 = np.random.rand(5, 5)\n",
    "trace = np.trace(rand5)\n",
    "print(\"\\n18:\\nTrace:\", trace)\n"
   ]
  },
  {
   "cell_type": "code",
   "execution_count": null,
   "id": "6bd552a9",
   "metadata": {},
   "outputs": [],
   "source": [
    "# 19. Split 1D array into 3 equal parts\n",
    "arr_split = np.arange(9)\n",
    "splits = np.split(arr_split, 3)\n",
    "print(\"\\n19:\\n\", splits)"
   ]
  },
  {
   "cell_type": "code",
   "execution_count": null,
   "id": "6b9a0708",
   "metadata": {},
   "outputs": [],
   "source": [
    "# 20. 3D array mean across axis=0\n",
    "arr3d = np.random.rand(3, 3, 3)\n",
    "mean_axis0 = arr3d.mean(axis=0)\n",
    "print(\"\\n20:\\n\", mean_axis0)"
   ]
  },
  {
   "cell_type": "code",
   "execution_count": null,
   "id": "8663a980",
   "metadata": {},
   "outputs": [],
   "source": [
    "# 21. Cumulative sum\n",
    "arr4 = np.arange(1, 11)\n",
    "cumsum = np.cumsum(arr4)\n",
    "print(\"\\n21:\\n\", cumsum)"
   ]
  },
  {
   "cell_type": "code",
   "execution_count": null,
   "id": "4a1d97e6",
   "metadata": {},
   "outputs": [],
   "source": [
    "# 22. Extract upper triangular matrix\n",
    "arr4x4 = np.random.randint(1, 10, (4, 4))\n",
    "upper_tri = np.triu(arr4x4)\n",
    "print(\"\\n22:\\nOriginal:\\n\", arr4x4, \"\\nUpper triangular:\\n\", upper_tri)\n"
   ]
  },
  {
   "cell_type": "code",
   "execution_count": null,
   "id": "9f78f94f",
   "metadata": {},
   "outputs": [],
   "source": [
    "# 23. Checkerboard pattern 6×6\n",
    "checkerboard = np.indices((6, 6)).sum(axis=0) % 2\n",
    "print(\"\\n23:\\n\", checkerboard)\n"
   ]
  },
  {
   "cell_type": "code",
   "execution_count": null,
   "id": "69d4a993",
   "metadata": {},
   "outputs": [],
   "source": [
    "# 24. Element-wise sqrt\n",
    "rand3 = np.random.rand(3, 3)\n",
    "sqrt_matrix = np.sqrt(rand3)\n",
    "print(\"\\n24:\\n\", sqrt_matrix)\n"
   ]
  },
  {
   "cell_type": "code",
   "execution_count": null,
   "id": "e67336cf",
   "metadata": {},
   "outputs": [],
   "source": [
    "# 25. Reverse array without slicing\n",
    "arr20 = np.arange(20)\n",
    "reversed_arr = np.flip(arr20)\n",
    "print(\"\\n25:\\n\", reversed_arr)"
   ]
  },
  {
   "cell_type": "code",
   "execution_count": null,
   "id": "bfcf9981",
   "metadata": {},
   "outputs": [],
   "source": [
    "# 26. Merge arrays vertically and horizontally\n",
    "arrA = np.array([[1, 2], [3, 4]])\n",
    "arrB = np.array([[5, 6], [7, 8]])\n",
    "vert = np.vstack((arrA, arrB))\n",
    "horiz = np.hstack((arrA, arrB))\n",
    "print(\"\\n26:\\nVertical:\\n\", vert, \"\\nHorizontal:\\n\", horiz)"
   ]
  },
  {
   "cell_type": "code",
   "execution_count": null,
   "id": "ea3719e5",
   "metadata": {},
   "outputs": [],
   "source": [
    "# 27. Row-wise & column-wise sum\n",
    "arr5 = np.random.randint(1, 10, (3, 3))\n",
    "print(\"\\n27:\\nArray:\\n\", arr5, \"\\nRow sum:\", arr5.sum(axis=1), \"\\nCol sum:\", arr5.sum(axis=0))\n"
   ]
  },
  {
   "cell_type": "code",
   "execution_count": null,
   "id": "bf4a2834",
   "metadata": {},
   "outputs": [],
   "source": [
    "# 28. Replace NaN with column mean\n",
    "arr_nan = np.array([[1, np.nan, 3], [4, 5, np.nan]])\n",
    "col_means = np.nanmean(arr_nan, axis=0)\n",
    "inds = np.where(np.isnan(arr_nan))\n",
    "arr_nan[inds] = np.take(col_means, inds[1])\n",
    "print(\"\\n28:\\n\", arr_nan)"
   ]
  },
  {
   "cell_type": "code",
   "execution_count": null,
   "id": "cc104715",
   "metadata": {},
   "outputs": [],
   "source": [
    "# 29. Cosine similarity\n",
    "x = np.array([1, 2, 3])\n",
    "y = np.array([4, 5, 6])\n",
    "cos_sim = np.dot(x, y) / (np.linalg.norm(x) * np.linalg.norm(y))\n",
    "print(\"\\n29:\\n\", cos_sim)"
   ]
  },
  {
   "cell_type": "code",
   "execution_count": null,
   "id": "9b3c8fb0",
   "metadata": {},
   "outputs": [],
   "source": [
    "# 30. Rotate 4×4 matrix by 90 degrees\n",
    "arr_rot = np.arange(16).reshape(4, 4)\n",
    "rot90 = np.rot90(arr_rot)\n",
    "print(\"\\n30:\\n\", rot90)"
   ]
  },
  {
   "cell_type": "code",
   "execution_count": null,
   "id": "6a5f21e6",
   "metadata": {},
   "outputs": [],
   "source": [
    "# 31. Structured array\n",
    "data = np.array([('Alice', 25, 88.5), ('Bob', 30, 92.0)], dtype=[('name', 'U10'), ('age', 'i4'), ('marks', 'f4')])\n",
    "print(\"\\n31:\\n\", data)"
   ]
  },
  {
   "cell_type": "code",
   "execution_count": null,
   "id": "7c177b41",
   "metadata": {},
   "outputs": [],
   "source": [
    "# 32. Rank of 3×3 matrix\n",
    "mat_rank = np.random.randint(1, 10, (3, 3))\n",
    "rank = np.linalg.matrix_rank(mat_rank)\n",
    "print(\"\\n32:\\n\", rank)"
   ]
  },
  {
   "cell_type": "code",
   "execution_count": null,
   "id": "741c482b",
   "metadata": {},
   "outputs": [],
   "source": [
    "# 33. Normalize each row to unit length\n",
    "mat_norm = np.random.rand(5, 5)\n",
    "row_norm = mat_norm / np.linalg.norm(mat_norm, axis=1, keepdims=True)\n",
    "print(\"\\n33:\\n\", row_norm)\n"
   ]
  },
  {
   "cell_type": "code",
   "execution_count": null,
   "id": "e8f09054",
   "metadata": {},
   "outputs": [],
   "source": [
    "# 34. Check arrays equal element-wise\n",
    "arr6 = np.array([1, 2, 3])\n",
    "arr7 = np.array([1, 2, 3])\n",
    "print(\"\\n34:\\n\", np.array_equal(arr6, arr7))"
   ]
  },
  {
   "cell_type": "code",
   "execution_count": null,
   "id": "504023b0",
   "metadata": {},
   "outputs": [],
   "source": [
    "# 35. Histogram of random dataset\n",
    "data = np.random.randn(1000)\n",
    "hist, bins = np.histogram(data, bins=10)\n",
    "print(\"\\n35:\\nHist:\", hist, \"\\nBins:\", bins)"
   ]
  },
  {
   "cell_type": "code",
   "execution_count": null,
   "id": "654f3f84",
   "metadata": {},
   "outputs": [],
   "source": [
    "# 36. Broadcasting add 1D to 2D\n",
    "arr2d2 = np.ones((3, 3))\n",
    "arr1d = np.array([1, 2, 3])\n",
    "broadcasted = arr2d2 + arr1d\n",
    "print(\"\\n36:\\n\", broadcasted)"
   ]
  },
  {
   "cell_type": "code",
   "execution_count": null,
   "id": "264cf39a",
   "metadata": {},
   "outputs": [],
   "source": [
    "# 37. Unique values & counts\n",
    "arr8 = np.array([1, 2, 2, 3, 3, 3, 4])\n",
    "unique, counts = np.unique(arr8, return_counts=True)\n",
    "print(\"\\n37:\\n\", dict(zip(unique, counts)))"
   ]
  },
  {
   "cell_type": "code",
   "execution_count": null,
   "id": "742a8441",
   "metadata": {},
   "outputs": [],
   "source": [
    "# 38. Pearson correlation coefficient\n",
    "x = np.array([1, 2, 3, 4, 5])\n",
    "y = np.array([5, 4, 3, 2, 1])\n",
    "corr = np.corrcoef(x, y)[0, 1]\n",
    "print(\"\\n38:\\n\", corr)"
   ]
  },
  {
   "cell_type": "code",
   "execution_count": null,
   "id": "b9db3e6f",
   "metadata": {},
   "outputs": [],
   "source": [
    "\n",
    "# 39. Numerical gradient of 1D array\n",
    "arr9 = np.array([1, 2, 4, 7, 11])\n",
    "grad = np.gradient(arr9)\n",
    "print(\"\\n39:\\n\", grad)"
   ]
  },
  {
   "cell_type": "code",
   "execution_count": null,
   "id": "9afb8406",
   "metadata": {},
   "outputs": [],
   "source": [
    "# 40. Singular Value Decomposition (SVD)\n",
    "mat_svd = np.random.rand(3, 3)\n",
    "U, S, Vt = np.linalg.svd(mat_svd)\n",
    "print(\"\\n40:\\nU:\\n\", U, \"\\nS:\\n\", S, \"\\nVt:\\n\", Vt)"
   ]
  }
 ],
 "metadata": {
  "kernelspec": {
   "display_name": "base",
   "language": "python",
   "name": "python3"
  },
  "language_info": {
   "codemirror_mode": {
    "name": "ipython",
    "version": 3
   },
   "file_extension": ".py",
   "mimetype": "text/x-python",
   "name": "python",
   "nbconvert_exporter": "python",
   "pygments_lexer": "ipython3",
   "version": "3.13.5"
  }
 },
 "nbformat": 4,
 "nbformat_minor": 5
}
